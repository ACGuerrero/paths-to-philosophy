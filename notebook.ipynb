{
 "cells": [
  {
   "cell_type": "code",
   "execution_count": 1,
   "metadata": {},
   "outputs": [],
   "source": [
    "from bs4 import BeautifulSoup\n",
    "import requests\n",
    "baseurl = 'https://en.wikipedia.org/'\n",
    "url='https://en.wikipedia.org/wiki/Special:Random'\n",
    "test_url = 'https://en.wikipedia.org/wiki/International_Phonetic_Alphabet'\n",
    "\n",
    "def stop_at_philosophy(start_url):\n",
    "    current_url = start_url\n",
    "    i=0\n",
    "    while i<20:\n",
    "        response = requests.get(current_url)\n",
    "        print(response.status_code)\n",
    "        soup = BeautifulSoup(response.content, 'html.parser')\n",
    "        body = soup.find('div',attrs={'class':'vector-body ve-init-mw-desktopArticleTarget-targetContainer'})\n",
    "        first_paragraph = body.find('p')\n",
    "        print(first_paragraph)\n",
    "        first_link = first_paragraph.find('a').get('href')\n",
    "        print(first_link)\n",
    "        current_url = baseurl+first_link\n",
    "        print(current_url)"
   ]
  },
  {
   "cell_type": "code",
   "execution_count": 17,
   "metadata": {},
   "outputs": [
    {
     "name": "stdout",
     "output_type": "stream",
     "text": [
      "['/wiki/Alphabet']\n"
     ]
    }
   ],
   "source": [
    "response = requests.get(test_url)\n",
    "soup = BeautifulSoup(response.content, 'html.parser')\n",
    "mainarticle = soup.find('div',attrs={'class':'mw-parser-output'})\n",
    "paragraphs = mainarticle.find_all('p')\n",
    "first_link = []\n",
    "for paragraph in paragraphs:\n",
    "    try:\n",
    "        link = paragraph.find('a').get('href')\n",
    "        first_link.append(link)\n",
    "    except:\n",
    "        pass\n",
    "    if len(first_link) != 0:\n",
    "        break\n",
    "print(first_link)"
   ]
  },
  {
   "cell_type": "code",
   "execution_count": 56,
   "metadata": {},
   "outputs": [
    {
     "name": "stdout",
     "output_type": "stream",
     "text": [
      "/wiki/Elis_(regional_unit)\n",
      "/wiki/Greek_language\n",
      "/wiki/Modern_Greek\n",
      "/wiki/Dialect\n",
      "/wiki/Latin\n",
      "/wiki/Classical_language\n",
      "/wiki/Language\n",
      "/wiki/Communication\n",
      "/wiki/Information\n",
      "/wiki/Abstraction\n",
      "/wiki/Rule_of_inference\n",
      "/wiki/Philosophy_of_logic\n",
      "/wiki/Philosophy\n",
      "It took 12 steps to reach the philosophy page\n"
     ]
    }
   ],
   "source": [
    "def stop_at_philosophy(start_url):\n",
    "    current_url = start_url\n",
    "    i=0\n",
    "    while i<50:\n",
    "        response = requests.get(current_url)\n",
    "        soup = BeautifulSoup(response.content, 'html.parser')\n",
    "        body_content = soup.find('div',attrs={'id':'bodyContent'})\n",
    "        main_article = body_content.find('div',attrs={'id':'mw-content-text'})\n",
    "        paragraphs = main_article.find_all('p')\n",
    "        first_link = []\n",
    "        for paragraph in paragraphs:\n",
    "            try:\n",
    "                link = paragraph.find('a',recursive=False).get('href')\n",
    "                first_link.append(link)\n",
    "            except Exception as e:\n",
    "                pass\n",
    "            if len(first_link) != 0:\n",
    "                break\n",
    "        print(first_link[0])\n",
    "        current_url = baseurl+first_link[0]\n",
    "        if first_link[0] == '/wiki/Philosophy':\n",
    "            break\n",
    "        i+=1\n",
    "    print(f'It took {i} steps to reach the philosophy page')\n",
    "stop_at_philosophy('https://en.wikipedia.org/wiki/Special:Random')"
   ]
  },
  {
   "cell_type": "code",
   "execution_count": null,
   "metadata": {},
   "outputs": [],
   "source": []
  }
 ],
 "metadata": {
  "kernelspec": {
   "display_name": "env",
   "language": "python",
   "name": "python3"
  },
  "language_info": {
   "codemirror_mode": {
    "name": "ipython",
    "version": 3
   },
   "file_extension": ".py",
   "mimetype": "text/x-python",
   "name": "python",
   "nbconvert_exporter": "python",
   "pygments_lexer": "ipython3",
   "version": "3.8.10"
  },
  "orig_nbformat": 4,
  "vscode": {
   "interpreter": {
    "hash": "887928ec28948de044a71637c3f55c59da4781f8b8699c37d9b0e1b9dbed2d29"
   }
  }
 },
 "nbformat": 4,
 "nbformat_minor": 2
}
